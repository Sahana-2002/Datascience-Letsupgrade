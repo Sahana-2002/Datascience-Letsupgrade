{
  "nbformat": 4,
  "nbformat_minor": 0,
  "metadata": {
    "colab": {
      "name": "assignment-2",
      "provenance": []
    },
    "kernelspec": {
      "name": "python3",
      "display_name": "Python 3"
    }
  },
  "cells": [
    {
      "cell_type": "code",
      "metadata": {
        "id": "1YAYlLbvWwwv",
        "outputId": "1067be30-20ab-48b3-fd32-de6ec2713a0a",
        "colab": {
          "base_uri": "https://localhost:8080/"
        }
      },
      "source": [
        "#Question:1 program to create empty list and append to the list if it is even number.\n",
        "input_list=[1,3,5,8,9,4,9,10,5,42]\n",
        "output_list=[ ]\n",
        "for var in input_list:\n",
        "  if var%2==0:\n",
        "    output_list.append(var)\n",
        "print(output_list);"
      ],
      "execution_count": null,
      "outputs": [
        {
          "output_type": "stream",
          "text": [
            "[8, 4, 10, 42]\n"
          ],
          "name": "stdout"
        }
      ]
    },
    {
      "cell_type": "code",
      "metadata": {
        "id": "rphdtt7Ia8sl",
        "outputId": "244ad547-91a1-47d6-a73b-70a73a99c8a2",
        "colab": {
          "base_uri": "https://localhost:8080/"
        }
      },
      "source": [
        "#Question:2 list comprehension \n",
        "#1.\n",
        "x=[i for i in range(10)]\n",
        "print(x)"
      ],
      "execution_count": null,
      "outputs": [
        {
          "output_type": "stream",
          "text": [
            "[0, 1, 2, 3, 4, 5, 6, 7, 8, 9]\n"
          ],
          "name": "stdout"
        }
      ]
    },
    {
      "cell_type": "code",
      "metadata": {
        "id": "ItvcOxi1b3nU",
        "outputId": "422164ff-c618-4ce1-9bb6-bdbc5197e96f",
        "colab": {
          "base_uri": "https://localhost:8080/"
        }
      },
      "source": [
        "#2.\n",
        "squares=[x**2 for x in range(7)]\n",
        "print(squares)"
      ],
      "execution_count": null,
      "outputs": [
        {
          "output_type": "stream",
          "text": [
            "[0, 1, 4, 9, 16, 25, 36]\n"
          ],
          "name": "stdout"
        }
      ]
    },
    {
      "cell_type": "code",
      "metadata": {
        "id": "kfXURpLecStv",
        "outputId": "fac9a4ef-0925-4068-fed5-64ecf8ddf09f",
        "colab": {
          "base_uri": "https://localhost:8080/"
        }
      },
      "source": [
        "#3.multiplication\n",
        "l=[2,6,4]\n",
        "multiplied=[item*3 for item in l]\n",
        "print(multiplied)"
      ],
      "execution_count": null,
      "outputs": [
        {
          "output_type": "stream",
          "text": [
            "[6, 18, 12]\n"
          ],
          "name": "stdout"
        }
      ]
    },
    {
      "cell_type": "code",
      "metadata": {
        "id": "POzEh8ifc8Sg",
        "outputId": "495cdd81-8ec2-44b8-967d-fd2f2d3a1c65",
        "colab": {
          "base_uri": "https://localhost:8080/"
        }
      },
      "source": [
        "#4.To take the first letter of each word and to make list out of it.\n",
        "listofwords=[\"Datascience\",\"letsupgrade\",\"Community\"]\n",
        "items=[word[0] for word in listofwords]\n",
        "print(items)"
      ],
      "execution_count": null,
      "outputs": [
        {
          "output_type": "stream",
          "text": [
            "['D', 'l', 'C']\n"
          ],
          "name": "stdout"
        }
      ]
    },
    {
      "cell_type": "code",
      "metadata": {
        "id": "yDpftaTId27J",
        "outputId": "57077fb4-97cb-4803-acda-be04eafd6f02",
        "colab": {
          "base_uri": "https://localhost:8080/"
        }
      },
      "source": [
        "#5.To convert into uppercase to lowercase and lowercase to uppercase.\n",
        "x=[x.lower() for x in [\"A\",\"S\",\"R\"]]\n",
        "print(x)\n",
        "y=[x.upper() for x in [\"r\",\"t\",\"u\"]]\n",
        "print(y)"
      ],
      "execution_count": null,
      "outputs": [
        {
          "output_type": "stream",
          "text": [
            "['a', 's', 'r']\n",
            "['R', 'T', 'U']\n"
          ],
          "name": "stdout"
        }
      ]
    },
    {
      "cell_type": "code",
      "metadata": {
        "id": "TXJRabThezzG",
        "outputId": "ce026a54-232c-4589-9e96-cf98bcbb9fe7",
        "colab": {
          "base_uri": "https://localhost:8080/"
        }
      },
      "source": [
        "#6.using if\n",
        "l=[x for x in range(20) if x%2==0]\n",
        "print(l)"
      ],
      "execution_count": null,
      "outputs": [
        {
          "output_type": "stream",
          "text": [
            "[0, 2, 4, 6, 8, 10, 12, 14, 16, 18]\n"
          ],
          "name": "stdout"
        }
      ]
    },
    {
      "cell_type": "code",
      "metadata": {
        "id": "XmjKiqImfWEN",
        "outputId": "1d3baa62-a8d9-4644-f1c2-1309ecc1100c",
        "colab": {
          "base_uri": "https://localhost:8080/"
        }
      },
      "source": [
        "#7.using for loop\n",
        "l=[i**2 for i in [1,2,3,5,6]]\n",
        "print(l)"
      ],
      "execution_count": null,
      "outputs": [
        {
          "output_type": "stream",
          "text": [
            "[1, 4, 9, 25, 36]\n"
          ],
          "name": "stdout"
        }
      ]
    },
    {
      "cell_type": "code",
      "metadata": {
        "id": "bC20_zqnfwNo",
        "outputId": "3f6e437c-5a7f-4d28-ed7a-8ba34740551c",
        "colab": {
          "base_uri": "https://localhost:8080/"
        }
      },
      "source": [
        "#8.squares only even numbers in list.\n",
        "l=[i**2 for i in [1,2,3,4,5] if i%2==0]\n",
        "print(l)"
      ],
      "execution_count": null,
      "outputs": [
        {
          "output_type": "stream",
          "text": [
            "[4, 16]\n"
          ],
          "name": "stdout"
        }
      ]
    },
    {
      "cell_type": "code",
      "metadata": {
        "id": "JTtL04wIgM74",
        "outputId": "64e5eb96-18b8-4c2c-cc5b-5339f2222bec",
        "colab": {
          "base_uri": "https://localhost:8080/"
        }
      },
      "source": [
        "#Question:3 Program to generate dictionary\n",
        "n=int(input())\n",
        "d=dict()\n",
        "for x in range(1,n+1):\n",
        "  d[x]=x*x\n",
        "print(d)"
      ],
      "execution_count": null,
      "outputs": [
        {
          "output_type": "stream",
          "text": [
            "5\n",
            "{1: 1, 2: 4, 3: 9, 4: 16, 5: 25}\n"
          ],
          "name": "stdout"
        }
      ]
    },
    {
      "cell_type": "code",
      "metadata": {
        "id": "ANcbJTpPNh1I",
        "outputId": "9fd6c792-421b-43bb-a121-9981fd143a04",
        "colab": {
          "base_uri": "https://localhost:8080/"
        }
      },
      "source": [
        "#Question:4 program to compute the distance between the current position after a sequence of movement and original point.\n",
        "import math\n",
        "pos=[0,0]\n",
        "moves={\"UP\":[0,1],\n",
        "       \"DOWN\":[0,-1],\n",
        "       \"LEFT\":[-1,0],\n",
        "       \"RIGHT\":[1,0]}\n",
        "n=float(input(\"number of directions=\"))\n",
        "data= [\"UP 5\",\n",
        "      \"DOWN 3\",\n",
        "      \"LEFT 3\",\n",
        "      \"RIGHT 2\"] \n",
        "for n in data:\n",
        "  parts=n.split()\n",
        "  m=parts[0]\n",
        "  val=parts[1]\n",
        "  if m in moves and val.isnumeric():\n",
        "    pos[0]+=moves[m][0]*int(val)\n",
        "    pos[1]+=moves[m][1]*int(val)\n",
        "distance=(round(math.sqrt(pos[0]**2+pos[1]**2)))\n",
        "print(distance);"
      ],
      "execution_count": null,
      "outputs": [
        {
          "output_type": "stream",
          "text": [
            "number of directions=4\n",
            "2\n"
          ],
          "name": "stdout"
        }
      ]
    }
  ]
}