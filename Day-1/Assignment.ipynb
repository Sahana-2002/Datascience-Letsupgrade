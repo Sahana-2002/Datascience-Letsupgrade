{
  "nbformat": 4,
  "nbformat_minor": 0,
  "metadata": {
    "colab": {
      "name": "Assignment.ipynb",
      "provenance": [],
      "collapsed_sections": []
    },
    "kernelspec": {
      "name": "python3",
      "display_name": "Python 3"
    }
  },
  "cells": [
    {
      "cell_type": "code",
      "metadata": {
        "id": "mk2bSfE3p_DP"
      },
      "source": [
        "#Question 1:Given the following word, OBANWRI guess the correct English word.\n",
        "A) RANIBOW\n",
        "B) RAINBOW\n",
        "C) BOWRANI\n",
        "D) ROBWANI\n",
        "Answer: B) RAINBOW"
      ],
      "execution_count": null,
      "outputs": []
    },
    {
      "cell_type": "code",
      "metadata": {
        "id": "jV2Ry2bjrbcj",
        "outputId": "0725dcb2-9a5e-4462-87fd-3aeb4e01e320",
        "colab": {
          "base_uri": "https://localhost:8080/"
        }
      },
      "source": [
        "#Program to print \"LETS UPGRADE\". \n",
        "print(\"LETS UPGRADE\")"
      ],
      "execution_count": null,
      "outputs": [
        {
          "output_type": "stream",
          "text": [
            "LETS UPGRADE\n"
          ],
          "name": "stdout"
        }
      ]
    },
    {
      "cell_type": "code",
      "metadata": {
        "id": "Pa3QnMeXsUy-",
        "outputId": "935ac30d-3334-4cb9-8f95-d6d779d48847",
        "colab": {
          "base_uri": "https://localhost:8080/"
        }
      },
      "source": [
        "#Program to check whether the transaction is a profit or a loss or neither.\n",
        "costprice=int(input())\n",
        "sellingprice=int(input())\n",
        "if costprice>sellingprice:\n",
        "   print(\"Loss\")\n",
        "elif costprice<sellingprice:\n",
        "    print(\"Profit\")\n",
        "else:\n",
        "    print(\"Neither\")"
      ],
      "execution_count": null,
      "outputs": [
        {
          "output_type": "stream",
          "text": [
            "900\n",
            "1000\n",
            "Profit\n"
          ],
          "name": "stdout"
        }
      ]
    },
    {
      "cell_type": "code",
      "metadata": {
        "id": "6JFTCleAv0nl",
        "outputId": "23b6fdaa-32be-42ea-d68d-6e13954944e0",
        "colab": {
          "base_uri": "https://localhost:8080/"
        }
      },
      "source": [
        "#Program to check whether the transaction is a profit or a loss or neither.\n",
        "costprice=int(input())\n",
        "sellingprice=int(input())\n",
        "if costprice>sellingprice:\n",
        "   print(\"Loss\")\n",
        "elif costprice<sellingprice:\n",
        "    print(\"Profit\")\n",
        "else:\n",
        "    print(\"Neither\")\n",
        "\n"
      ],
      "execution_count": null,
      "outputs": [
        {
          "output_type": "stream",
          "text": [
            "600\n",
            "600\n",
            "Neither\n"
          ],
          "name": "stdout"
        }
      ]
    },
    {
      "cell_type": "code",
      "metadata": {
        "id": "5lqYf86CvNhM",
        "outputId": "9652d6b9-1859-42a2-c86f-0f21772a35ca",
        "colab": {
          "base_uri": "https://localhost:8080/"
        }
      },
      "source": [
        "#Program to check whether the transaction is a profit or a loss or neither.\n",
        "costprice=int(input())\n",
        "sellingprice=int(input())\n",
        "if costprice>sellingprice:\n",
        "   print(\"Loss\")\n",
        "elif costprice<sellingprice:\n",
        "    print(\"Profit\")\n",
        "else:\n",
        "    print(\"Neither\")"
      ],
      "execution_count": null,
      "outputs": [
        {
          "output_type": "stream",
          "text": [
            "500\n",
            "450\n",
            "Loss\n"
          ],
          "name": "stdout"
        }
      ]
    },
    {
      "cell_type": "code",
      "metadata": {
        "id": "mueXFNrkwAF-",
        "outputId": "f98d0db5-9218-46ed-e72c-271512e7c76c",
        "colab": {
          "base_uri": "https://localhost:8080/"
        }
      },
      "source": [
        "#Program to find indianrupees in euros\n",
        "indianrupees=int(input())\n",
        "oneeuro=80\n",
        "print(indianrupees*oneeuro)"
      ],
      "execution_count": null,
      "outputs": [
        {
          "output_type": "stream",
          "text": [
            "300\n",
            "24000\n"
          ],
          "name": "stdout"
        }
      ]
    }
  ]
}