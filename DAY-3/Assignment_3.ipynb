{
  "nbformat": 4,
  "nbformat_minor": 0,
  "metadata": {
    "colab": {
      "name": "Assignment-3",
      "provenance": [],
      "collapsed_sections": []
    },
    "kernelspec": {
      "name": "python3",
      "display_name": "Python 3"
    }
  },
  "cells": [
    {
      "cell_type": "code",
      "metadata": {
        "id": "gs1lKn_qQ8w0"
      },
      "source": [
        "import numpy as np"
      ],
      "execution_count": null,
      "outputs": []
    },
    {
      "cell_type": "code",
      "metadata": {
        "id": "qqjsv8ubRPaX",
        "outputId": "8df69ebd-f4c0-4916-eac7-bbe20e7561ed",
        "colab": {
          "base_uri": "https://localhost:8080/"
        }
      },
      "source": [
        "#Question-1: program to create a numpy array starting from 2 till 50 with a stepsize of 3.\n",
        "s=print(np.arange(2,50,3))\n"
      ],
      "execution_count": null,
      "outputs": [
        {
          "output_type": "stream",
          "text": [
            "[ 2  5  8 11 14 17 20 23 26 29 32 35 38 41 44 47]\n"
          ],
          "name": "stdout"
        }
      ]
    },
    {
      "cell_type": "code",
      "metadata": {
        "id": "VZFRExcnT354",
        "outputId": "de468daf-a648-44a0-eb3c-7970c68f9e67",
        "colab": {
          "base_uri": "https://localhost:8080/"
        }
      },
      "source": [
        "#Question-2: program to convert lists to numpy arrays and concatenate and sort.\n",
        "l1=[7,8,9,10,11]\n",
        "l2=[2,5,6,4,1]\n",
        "arr1=np.array(l1)\n",
        "print(arr1)\n",
        "arr2=np.array(l2)\n",
        "print(arr2)\n",
        "print()\n",
        "c=np.concatenate([arr1,arr2])\n",
        "print(c)\n",
        "s=np.sort(c)\n",
        "print(s)"
      ],
      "execution_count": null,
      "outputs": [
        {
          "output_type": "stream",
          "text": [
            "[ 7  8  9 10 11]\n",
            "[2 5 6 4 1]\n",
            "\n",
            "[ 7  8  9 10 11  2  5  6  4  1]\n",
            "[ 1  2  4  5  6  7  8  9 10 11]\n"
          ],
          "name": "stdout"
        }
      ]
    },
    {
      "cell_type": "code",
      "metadata": {
        "id": "Yb4Bt6Z2VibP",
        "outputId": "c3c8fdf2-49f3-447f-905f-37db34698fa7",
        "colab": {
          "base_uri": "https://localhost:8080/"
        }
      },
      "source": [
        "#Question-3: code to find the dimmensions of a ndarray and its size.\n",
        "arr1=np.arange(10)\n",
        "print(arr1)\n",
        "print(np.ndim(arr1))\n",
        "print(np.size(arr1))\n",
        "print()\n",
        "arr2=np.arange(10).reshape(2,5)\n",
        "print(arr2)\n",
        "print(np.ndim(arr2))\n",
        "print(np.size(arr2))\n"
      ],
      "execution_count": null,
      "outputs": [
        {
          "output_type": "stream",
          "text": [
            "[0 1 2 3 4 5 6 7 8 9]\n",
            "1\n",
            "10\n",
            "\n",
            "[[0 1 2 3 4]\n",
            " [5 6 7 8 9]]\n",
            "2\n",
            "10\n"
          ],
          "name": "stdout"
        }
      ]
    },
    {
      "cell_type": "code",
      "metadata": {
        "id": "yPbjUT-GZgdB",
        "outputId": "c96409ef-6df9-4a42-ca07-41f24eaddaa1",
        "colab": {
          "base_uri": "https://localhost:8080/"
        }
      },
      "source": [
        "#Question-4: how to convert a 1D array into a 2D array.\n",
        "#1.Using newaxis and expand_dims()\n",
        "#numpy.newaxis is used to increase the dimmension of the existing array by one more dimmension, when used once.\n",
        "#expand_dims() function is used to expand the shape of an array.\n",
        "a=np.arange(6)\n",
        "print(a)\n",
        "e=a[:,np.newaxis]\n",
        "np.expand_dims(a,0)\n",
        "print(e)\n",
        "print(e.ndim)"
      ],
      "execution_count": null,
      "outputs": [
        {
          "output_type": "stream",
          "text": [
            "[0 1 2 3 4 5]\n",
            "[[0]\n",
            " [1]\n",
            " [2]\n",
            " [3]\n",
            " [4]\n",
            " [5]]\n",
            "2\n"
          ],
          "name": "stdout"
        }
      ]
    },
    {
      "cell_type": "code",
      "metadata": {
        "id": "0jIKPHXKfUox",
        "outputId": "9435b247-3491-4a7c-b4bb-b52a5e9cf7d8",
        "colab": {
          "base_uri": "https://localhost:8080/"
        }
      },
      "source": [
        "#Question-5: consider two square numpy arrays.Stack them vertically and horizontally.\n",
        "arr1=np.array([1,4,5,7,3])\n",
        "arr2=np.array([5,2,3,5,6])\n",
        "s1=np.square(arr1)\n",
        "s2=np.square(arr2)\n",
        "v=np.vstack((s1,s2))\n",
        "print(\"Vertical stack:\",v)\n",
        "print()\n",
        "h=np.hstack((s1,s2))\n",
        "print(\"horizontal stack:\",h)\n"
      ],
      "execution_count": null,
      "outputs": [
        {
          "output_type": "stream",
          "text": [
            "Vertical stack: [[ 1 16 25 49  9]\n",
            " [25  4  9 25 36]]\n",
            "\n",
            "horizontal stack: [ 1 16 25 49  9 25  4  9 25 36]\n"
          ],
          "name": "stdout"
        }
      ]
    },
    {
      "cell_type": "code",
      "metadata": {
        "id": "Jszb6WuriDLN",
        "outputId": "ec57247d-780b-4f04-a135-4051e4a0e328",
        "colab": {
          "base_uri": "https://localhost:8080/"
        }
      },
      "source": [
        "#Question-6: How to get unique items and counts of unique items?\n",
        "arr=([1,2,3,4,5,5,2,3,2,2,1,7,8,9,9])\n",
        "print(arr)\n",
        "uniquevalues,indices,count=np.unique(arr,return_index=True,return_counts=True)\n",
        "print(\"Uniquevalues:\",uniquevalues)\n",
        "print(\"indices:\",indices)\n",
        "print(\"counts:\",count)"
      ],
      "execution_count": null,
      "outputs": [
        {
          "output_type": "stream",
          "text": [
            "[1, 2, 3, 4, 5, 5, 2, 3, 2, 2, 1, 7, 8, 9, 9]\n",
            "Uniquevalue: [1 2 3 4 5 7 8 9]\n",
            "indices: [ 0  1  2  3  4 11 12 13]\n",
            "counts: [2 4 2 1 2 1 1 2]\n"
          ],
          "name": "stdout"
        }
      ]
    }
  ]
}